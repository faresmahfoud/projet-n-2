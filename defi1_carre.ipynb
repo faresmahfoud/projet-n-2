{
 "cells": [
  {
   "cell_type": "markdown",
   "metadata": {},
   "source": []
  },
  {
   "cell_type": "markdown",
   "metadata": {},
   "source": [
    "On teste tous les sous-ensembles possible dans l'interval fourni. Cependant, afin d'optimiser le processus nous eliminant certains éléments qui sont clairement non utile et ne donnerai que des combinaisons dont le produit n'est pas un carré parfait."
   ]
  },
  {
   "cell_type": "code",
   "execution_count": 1,
   "metadata": {},
   "outputs": [],
   "source": [
    "def premier(limit):\n",
    "    # determine les nombre premier contenu dans un interval donner a l'aide du crible d'Erasthosten\n",
    "    a = [True] * limit\n",
    "    a[0: 1] = [False, False]\n",
    "\n",
    "    # tous les nombres multiple d'un nombre premier reçoivent False\n",
    "    for i, is_prime in enumerate(a):\n",
    "        if is_prime:\n",
    "            # yield est l'equivalent de return mais permet de gagner de l'espace en ram\n",
    "            yield i\n",
    "            for n in range(i*i, limit+1, i):\n",
    "                a[n] = False"
   ]
  },
  {
   "cell_type": "code",
   "execution_count": 2,
   "metadata": {},
   "outputs": [],
   "source": [
    "def power(a):\n",
    "    # produit l'ensemble de tous les sous ensemble d'une collection\n",
    "    result = [[]]\n",
    "    for elem in a:\n",
    "        result.extend([x + [elem] for x in result])\n",
    "    \n",
    "    # le premier element i.e l'ensemble vide est eliminer\n",
    "    return result[1:]"
   ]
  },
  {
   "cell_type": "code",
   "execution_count": 3,
   "metadata": {},
   "outputs": [],
   "source": [
    "def C(a,b):\n",
    "    I = range(a, b+1)\n",
    "    primes = list( premier(b) )\n",
    "\n",
    "    # elimine les nombres premier qui n'apparaissent au dela de b/2 qand a < b/2\n",
    "    if b > 2*a :\n",
    "        p = [ i for i in primes if i > b//2 ]\n",
    "        I = list( set(I) - set(p) )\n",
    "    \n",
    "    # elmine tous les nombre premier et composite dont au moins un facteur ne se repete pas dans l'interval\n",
    "    else :\n",
    "        p = [ i for i in primes if i > a ]\n",
    "        I = list( set(I) - set(p) )\n",
    "        \n",
    "        q = [ i for i in primes if i > b-a and i < a ]\n",
    "        \n",
    "        for q_ in q :\n",
    "            e = (b//q_)*q_\n",
    "            I = list( set(I) - set([e]) ) \n",
    "\n",
    "    T = 0\n",
    "    \n",
    "    # calcule des produits de chaque sub_set et verifie si sa racine carré est un entier\n",
    "    for s in power(I):\n",
    "        produit = 1\n",
    "\n",
    "        for i in s :\n",
    "            produit = produit * i\n",
    "\n",
    "        sq = produit**(1/2)\n",
    "        if sq%1 == 0 :\n",
    "            T += 1\n",
    "\n",
    "    print(\"Nombre de carrés parfait formés a partir de l'interval fournie =\", T)"
   ]
  },
  {
   "cell_type": "code",
   "execution_count": 4,
   "metadata": {},
   "outputs": [
    {
     "name": "stdout",
     "output_type": "stream",
     "text": [
      "Nombre de carrés parfait formés a partir de l'interval fournie = 15\n"
     ]
    }
   ],
   "source": [
    "C(40, 55)"
   ]
  }
 ],
 "metadata": {
  "kernelspec": {
   "display_name": "Python 3",
   "language": "python",
   "name": "python3"
  },
  "language_info": {
   "codemirror_mode": {
    "name": "ipython",
    "version": 3
   },
   "file_extension": ".py",
   "mimetype": "text/x-python",
   "name": "python",
   "nbconvert_exporter": "python",
   "pygments_lexer": "ipython3",
   "version": "3.6.4"
  }
 },
 "nbformat": 4,
 "nbformat_minor": 2
}

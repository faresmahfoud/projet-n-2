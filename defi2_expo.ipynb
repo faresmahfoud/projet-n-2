{
 "cells": [
  {
   "cell_type": "markdown",
   "metadata": {},
   "source": []
  },
  {
   "cell_type": "markdown",
   "metadata": {},
   "source": [
    "Implémentation de l'algorithme Sliding Window modifié afin de minimiser les précalcules."
   ]
  },
  {
   "cell_type": "code",
   "execution_count": 1,
   "metadata": {},
   "outputs": [],
   "source": [
    "from math import log"
   ]
  },
  {
   "cell_type": "code",
   "execution_count": 2,
   "metadata": {},
   "outputs": [],
   "source": [
    "# wrapper de la fonction principale\n",
    "def minProd(K):\n",
    "    \n",
    "    s = 3  # = ch(1)==0 + ch(2)==1 + ch(3)==2\n",
    "    \n",
    "    # on calcule a partir de 4 qui est le premier exemple non trivial\n",
    "    for n in range(4, K+1) :\n",
    "        smalest = float('inf') # afin de pouvoir comparer initialament    \n",
    "        \n",
    "        for k in range(1, int( log(n, 2) )+1 ):\n",
    "            if smalest > sliding_window(n=n, k=k) :\n",
    "                smalest = sliding_window(n=n, k=k)\n",
    "        s = s + smalest\n",
    "\n",
    "    return s"
   ]
  },
  {
   "cell_type": "code",
   "execution_count": 3,
   "metadata": {},
   "outputs": [],
   "source": [
    "# la methode necessite un parametre k que l'on determine par brute force\n",
    "def sliding_window(n, k):\n",
    "\n",
    "    # chaine d'exponenentiel de depart\n",
    "    odd_pow = {1:2, 2:4}\n",
    "\n",
    "    # convertion vers base 2\n",
    "    m = bin(n)\n",
    "    m = m[2:]\n",
    "    m = m[::-1]\n",
    "\n",
    "    # variable de la boucle\n",
    "    X, i, ch_len = 1, len(m)-1, 0\n",
    "\n",
    "    # lecture de droite a gauche du chiffre qui sera inverser par la suite\n",
    "    while i > -1 :\n",
    "        \n",
    "        if m[i] == '1' :\n",
    "            \n",
    "            # retention de la plus longue sequence\n",
    "            for a in range(k) :\n",
    "\n",
    "                # evite le choix d'un indexe < 0\n",
    "                if i-a > 0 :\n",
    "                    b = i-a\n",
    "                else :\n",
    "                    b = 0\n",
    "\n",
    "                if m[b] == '1' :\n",
    "                    window = m[ b:i+1 ]\n",
    "                    c = b\n",
    "\n",
    "            # remise de la sequence dans l'ordre initiale\n",
    "            window = window[::-1]\n",
    "\n",
    "            # mise au carre\n",
    "            for _ in range(i-c+1):\n",
    "                X = X**2\n",
    "            \n",
    "            # ne compte pas la mise au carre si celle-ci est appliquer a X > 1\n",
    "            if X > 1 :\n",
    "                ch_len += i-c+1\n",
    "            \n",
    "            # ne calcule que les expos impaires demandes\n",
    "            while int(window, 2) not in odd_pow :\n",
    "                i = len(odd_pow)-1\n",
    "                odd_pow[2*i+1] = odd_pow[2*i-1]*2\n",
    "\n",
    "            # n'effectur pas la multiplication si le 2eme terme egale 1\n",
    "            if odd_pow[ int(window, 2) ] > 1 :\n",
    "\n",
    "                # si X == 1 la multiplication est effectuee mais non comptabiliser\n",
    "                if X > 1 :\n",
    "                    ch_len += 1\n",
    "\n",
    "                X = X*odd_pow[ int(window, 2) ]\n",
    "            \n",
    "            i = c-1\n",
    "    \n",
    "        else : \n",
    "            X, ch_len, i = X*X, ch_len+1, i-1\n",
    "\n",
    "    ch_len += len(odd_pow)-1  # on ajoute le nombre de precalcules effectuees\n",
    "    return ch_len"
   ]
  },
  {
   "cell_type": "code",
   "execution_count": 4,
   "metadata": {},
   "outputs": [
    {
     "name": "stdout",
     "output_type": "stream",
     "text": [
      "Sommes des chaines d'exponentiations a l'aide de l'algorithme sliding window, pour borne sup = 200 : 1651\n"
     ]
    }
   ],
   "source": [
    "# Execution\n",
    "a = 200\n",
    "print( \"Sommes des chaines d'exponentiations a l'aide de l'algorithme sliding window, pour borne sup =\", a ,\":\", minProd(K=a) )"
   ]
  }
 ],
 "metadata": {
  "kernelspec": {
   "display_name": "Python 3",
   "language": "python",
   "name": "python3"
  },
  "language_info": {
   "codemirror_mode": {
    "name": "ipython",
    "version": 3
   },
   "file_extension": ".py",
   "mimetype": "text/x-python",
   "name": "python",
   "nbconvert_exporter": "python",
   "pygments_lexer": "ipython3",
   "version": "3.6.4"
  }
 },
 "nbformat": 4,
 "nbformat_minor": 2
}
